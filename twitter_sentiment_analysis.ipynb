{
 "cells": [
  {
   "cell_type": "code",
   "execution_count": 1,
   "metadata": {
    "_cell_guid": "b1076dfc-b9ad-4769-8c92-a6c4dae69d19",
    "_uuid": "8f2839f25d086af736a60e9eeb907d3b93b6e0e5"
   },
   "outputs": [
    {
     "name": "stdout",
     "output_type": "stream",
     "text": [
      "/kaggle/input/test.csv\n",
      "/kaggle/input/train.csv\n"
     ]
    }
   ],
   "source": [
    "import numpy as np \n",
    "import pandas as pd \n",
    "import matplotlib.pyplot as plt\n",
    "%matplotlib inline\n",
    "import seaborn as sns\n",
    "df1 = pd.read_csv('train.csv')"
   ]
  },
  {
   "cell_type": "code",
   "execution_count": 2,
   "metadata": {
    "_cell_guid": "79c7e3d0-c299-4dcb-8224-4455121ee9b0",
    "_uuid": "d629ff2d2480ee46fbb7e2d37f6b5fab8052498a"
   },
   "outputs": [
    {
     "data": {
      "text/html": [
       "<div>\n",
       "<style scoped>\n",
       "    .dataframe tbody tr th:only-of-type {\n",
       "        vertical-align: middle;\n",
       "    }\n",
       "\n",
       "    .dataframe tbody tr th {\n",
       "        vertical-align: top;\n",
       "    }\n",
       "\n",
       "    .dataframe thead th {\n",
       "        text-align: right;\n",
       "    }\n",
       "</style>\n",
       "<table border=\"1\" class=\"dataframe\">\n",
       "  <thead>\n",
       "    <tr style=\"text-align: right;\">\n",
       "      <th></th>\n",
       "      <th>id</th>\n",
       "      <th>label</th>\n",
       "      <th>tweet</th>\n",
       "    </tr>\n",
       "  </thead>\n",
       "  <tbody>\n",
       "    <tr>\n",
       "      <th>0</th>\n",
       "      <td>1</td>\n",
       "      <td>0</td>\n",
       "      <td>@user when a father is dysfunctional and is s...</td>\n",
       "    </tr>\n",
       "    <tr>\n",
       "      <th>1</th>\n",
       "      <td>2</td>\n",
       "      <td>0</td>\n",
       "      <td>@user @user thanks for #lyft credit i can't us...</td>\n",
       "    </tr>\n",
       "    <tr>\n",
       "      <th>2</th>\n",
       "      <td>3</td>\n",
       "      <td>0</td>\n",
       "      <td>bihday your majesty</td>\n",
       "    </tr>\n",
       "    <tr>\n",
       "      <th>3</th>\n",
       "      <td>4</td>\n",
       "      <td>0</td>\n",
       "      <td>#model   i love u take with u all the time in ...</td>\n",
       "    </tr>\n",
       "    <tr>\n",
       "      <th>4</th>\n",
       "      <td>5</td>\n",
       "      <td>0</td>\n",
       "      <td>factsguide: society now    #motivation</td>\n",
       "    </tr>\n",
       "  </tbody>\n",
       "</table>\n",
       "</div>"
      ],
      "text/plain": [
       "   id  label                                              tweet\n",
       "0   1      0   @user when a father is dysfunctional and is s...\n",
       "1   2      0  @user @user thanks for #lyft credit i can't us...\n",
       "2   3      0                                bihday your majesty\n",
       "3   4      0  #model   i love u take with u all the time in ...\n",
       "4   5      0             factsguide: society now    #motivation"
      ]
     },
     "execution_count": 2,
     "metadata": {},
     "output_type": "execute_result"
    }
   ],
   "source": [
    "df1.head()"
   ]
  },
  {
   "cell_type": "code",
   "execution_count": 3,
   "metadata": {},
   "outputs": [
    {
     "data": {
      "text/plain": [
       "id       0\n",
       "label    0\n",
       "tweet    0\n",
       "dtype: int64"
      ]
     },
     "execution_count": 3,
     "metadata": {},
     "output_type": "execute_result"
    }
   ],
   "source": [
    "df1.isna().sum()"
   ]
  },
  {
   "cell_type": "code",
   "execution_count": 4,
   "metadata": {},
   "outputs": [
    {
     "name": "stdout",
     "output_type": "stream",
     "text": [
      "29720 Non-Hatred Tweets\n",
      "2242 Hatred Tweets\n"
     ]
    }
   ],
   "source": [
    "print(len(df1[df1.label == 0]), 'Non-Hatred Tweets')\n",
    "print(len(df1[df1.label == 1]), 'Hatred Tweets') "
   ]
  },
  {
   "cell_type": "markdown",
   "metadata": {},
   "source": [
    "**Preprocessing**"
   ]
  },
  {
   "cell_type": "code",
   "execution_count": 5,
   "metadata": {},
   "outputs": [],
   "source": [
    "import nltk\n",
    "from sklearn import re \n",
    "from nltk.corpus import stopwords\n",
    "from nltk.stem import WordNetLemmatizer\n",
    "lemma = WordNetLemmatizer()\n",
    "from wordcloud import WordCloud, STOPWORDS\n",
    "from nltk import FreqDist \n",
    "\n",
    "from sklearn.feature_extraction.text import CountVectorizer\n",
    "from sklearn.feature_extraction.text import TfidfVectorizer\n",
    "from sklearn.model_selection import train_test_split\n",
    "from sklearn.linear_model import LogisticRegression\n",
    "from sklearn.metrics import confusion_matrix, classification_report, f1_score "
   ]
  },
  {
   "cell_type": "markdown",
   "metadata": {},
   "source": [
    "**Preprocessing the tweet column**"
   ]
  },
  {
   "cell_type": "code",
   "execution_count": 6,
   "metadata": {},
   "outputs": [],
   "source": [
    "def normalizer(tweet):\n",
    "    tweets = \" \".join(filter(lambda x: x[0]!= '@' , tweet.split()))\n",
    "    tweets = re.sub('[^a-zA-Z]', ' ', tweets)\n",
    "    tweets = tweets.lower()\n",
    "    tweets = tweets.split()\n",
    "    tweets = [word for word in tweets if not word in set(stopwords.words('english'))]\n",
    "    tweets = [lemma.lemmatize(word) for word in tweets]\n",
    "    tweets = \" \".join(tweets)\n",
    "    return tweets\n"
   ]
  },
  {
   "cell_type": "code",
   "execution_count": 7,
   "metadata": {},
   "outputs": [],
   "source": [
    "df1['normalized_text'] = df1.tweet.apply(normalizer)"
   ]
  },
  {
   "cell_type": "markdown",
   "metadata": {},
   "source": [
    "**Extracting words with hashtag for further analysis**"
   ]
  },
  {
   "cell_type": "code",
   "execution_count": 8,
   "metadata": {},
   "outputs": [],
   "source": [
    "def extract_hashtag(tweet):\n",
    "    tweets = \" \".join(filter(lambda x: x[0]== '#', tweet.split()))\n",
    "    tweets = re.sub('[^a-zA-Z]',' ',  tweets)\n",
    "    tweets = tweets.lower()\n",
    "    tweets = [lemma.lemmatize(word) for word in tweets]\n",
    "    tweets = \"\".join(tweets)\n",
    "    return tweets"
   ]
  },
  {
   "cell_type": "code",
   "execution_count": 9,
   "metadata": {},
   "outputs": [],
   "source": [
    "df1['hashtag'] = df1.tweet.apply(extract_hashtag)"
   ]
  },
  {
   "cell_type": "code",
   "execution_count": 10,
   "metadata": {},
   "outputs": [
    {
     "data": {
      "text/html": [
       "<div>\n",
       "<style scoped>\n",
       "    .dataframe tbody tr th:only-of-type {\n",
       "        vertical-align: middle;\n",
       "    }\n",
       "\n",
       "    .dataframe tbody tr th {\n",
       "        vertical-align: top;\n",
       "    }\n",
       "\n",
       "    .dataframe thead th {\n",
       "        text-align: right;\n",
       "    }\n",
       "</style>\n",
       "<table border=\"1\" class=\"dataframe\">\n",
       "  <thead>\n",
       "    <tr style=\"text-align: right;\">\n",
       "      <th></th>\n",
       "      <th>id</th>\n",
       "      <th>label</th>\n",
       "      <th>tweet</th>\n",
       "      <th>normalized_text</th>\n",
       "      <th>hashtag</th>\n",
       "    </tr>\n",
       "  </thead>\n",
       "  <tbody>\n",
       "    <tr>\n",
       "      <th>0</th>\n",
       "      <td>1</td>\n",
       "      <td>0</td>\n",
       "      <td>@user when a father is dysfunctional and is s...</td>\n",
       "      <td>father dysfunctional selfish drag kid dysfunct...</td>\n",
       "      <td>run</td>\n",
       "    </tr>\n",
       "    <tr>\n",
       "      <th>1</th>\n",
       "      <td>2</td>\n",
       "      <td>0</td>\n",
       "      <td>@user @user thanks for #lyft credit i can't us...</td>\n",
       "      <td>thanks lyft credit use cause offer wheelchair ...</td>\n",
       "      <td>lyft  disapointed  getthanked</td>\n",
       "    </tr>\n",
       "    <tr>\n",
       "      <th>2</th>\n",
       "      <td>3</td>\n",
       "      <td>0</td>\n",
       "      <td>bihday your majesty</td>\n",
       "      <td>bihday majesty</td>\n",
       "      <td></td>\n",
       "    </tr>\n",
       "    <tr>\n",
       "      <th>3</th>\n",
       "      <td>4</td>\n",
       "      <td>0</td>\n",
       "      <td>#model   i love u take with u all the time in ...</td>\n",
       "      <td>model love u take u time ur</td>\n",
       "      <td>model</td>\n",
       "    </tr>\n",
       "    <tr>\n",
       "      <th>4</th>\n",
       "      <td>5</td>\n",
       "      <td>0</td>\n",
       "      <td>factsguide: society now    #motivation</td>\n",
       "      <td>factsguide society motivation</td>\n",
       "      <td>motivation</td>\n",
       "    </tr>\n",
       "  </tbody>\n",
       "</table>\n",
       "</div>"
      ],
      "text/plain": [
       "   id  label                                              tweet  \\\n",
       "0   1      0   @user when a father is dysfunctional and is s...   \n",
       "1   2      0  @user @user thanks for #lyft credit i can't us...   \n",
       "2   3      0                                bihday your majesty   \n",
       "3   4      0  #model   i love u take with u all the time in ...   \n",
       "4   5      0             factsguide: society now    #motivation   \n",
       "\n",
       "                                     normalized_text  \\\n",
       "0  father dysfunctional selfish drag kid dysfunct...   \n",
       "1  thanks lyft credit use cause offer wheelchair ...   \n",
       "2                                     bihday majesty   \n",
       "3                        model love u take u time ur   \n",
       "4                      factsguide society motivation   \n",
       "\n",
       "                          hashtag  \n",
       "0                             run  \n",
       "1   lyft  disapointed  getthanked  \n",
       "2                                  \n",
       "3                           model  \n",
       "4                      motivation  "
      ]
     },
     "execution_count": 10,
     "metadata": {},
     "output_type": "execute_result"
    }
   ],
   "source": [
    "df1.head()"
   ]
  },
  {
   "cell_type": "markdown",
   "metadata": {},
   "source": [
    "**To Create Cloud of words for all words and hatred words**"
   ]
  },
  {
   "cell_type": "code",
   "execution_count": 11,
   "metadata": {},
   "outputs": [],
   "source": [
    "# all tweets \n",
    "all_words = \" \".join(df1.normalized_text)\n",
    "#print(all_all_words)\n"
   ]
  },
  {
   "cell_type": "code",
   "execution_count": 12,
   "metadata": {},
   "outputs": [],
   "source": [
    "#Hatred tweets\n",
    "hatred_words = \" \".join(df1[df1['label']==1].normalized_text)\n",
    "#print(hatred_words)"
   ]
  },
  {
   "cell_type": "markdown",
   "metadata": {},
   "source": [
    "**All tweets cloudword**"
   ]
  },
  {
   "cell_type": "code",
   "execution_count": 13,
   "metadata": {},
   "outputs": [
    {
     "data": {
      "image/png": "[encoded data removed]",
      "text/plain": [
       "<Figure size 432x288 with 1 Axes>"
      ]
     },
     "metadata": {
      "needs_background": "light"
     },
     "output_type": "display_data"
    }
   ],
   "source": [
    "wordcloud = WordCloud(height=2000, width=2000, stopwords=STOPWORDS, background_color='white')\n",
    "wordcloud = wordcloud.generate(all_words)\n",
    "plt.imshow(wordcloud)\n",
    "plt.axis('off')\n",
    "plt.show()"
   ]
  },
  {
   "cell_type": "markdown",
   "metadata": {},
   "source": [
    "**hatred tweets cloudword**"
   ]
  },
  {
   "cell_type": "code",
   "execution_count": 14,
   "metadata": {},
   "outputs": [
    {
     "data": {
      "image/png": "[encoded data removed]",
      "text/plain": [
       "<Figure size 432x288 with 1 Axes>"
      ]
     },
     "metadata": {
      "needs_background": "light"
     },
     "output_type": "display_data"
    }
   ],
   "source": [
    "wordcloud = WordCloud(height=2000, width=2000, stopwords=STOPWORDS, background_color='white')\n",
    "wordcloud = wordcloud.generate(hatred_words)\n",
    "plt.imshow(wordcloud)\n",
    "plt.axis('off')\n",
    "plt.show()"
   ]
  },
  {
   "cell_type": "markdown",
   "metadata": {},
   "source": [
    "**Analysing Hashtag words**\n",
    "\n",
    "**plotting the most common hashtag used in tweets**\n",
    "**all hashtag \n",
    "hatred hashtag**"
   ]
  },
  {
   "cell_type": "code",
   "execution_count": 15,
   "metadata": {},
   "outputs": [
    {
     "data": {
      "text/plain": [
       "[('love', 1591),\n",
       " ('positive', 879),\n",
       " ('smile', 577),\n",
       " ('healthy', 576),\n",
       " ('thankful', 471),\n",
       " ('fun', 463),\n",
       " ('life', 438),\n",
       " ('summer', 392),\n",
       " ('model', 366),\n",
       " ('cute', 364)]"
      ]
     },
     "execution_count": 15,
     "metadata": {},
     "output_type": "execute_result"
    }
   ],
   "source": [
    "freq_all_hashtag = FreqDist(list((\" \".join(df1.hashtag)).split())).most_common(10)\n",
    "freq_all_hashtag"
   ]
  },
  {
   "cell_type": "code",
   "execution_count": 16,
   "metadata": {},
   "outputs": [
    {
     "data": {
      "text/plain": [
       "[('trump', 134),\n",
       " ('politics', 95),\n",
       " ('allahsoil', 92),\n",
       " ('libtard', 76),\n",
       " ('liberal', 75),\n",
       " ('sjw', 74),\n",
       " ('retweet', 63),\n",
       " ('miami', 46),\n",
       " ('black', 44),\n",
       " ('hate', 32)]"
      ]
     },
     "execution_count": 16,
     "metadata": {},
     "output_type": "execute_result"
    }
   ],
   "source": [
    "freq_hatred_hashtag = FreqDist(list((\" \".join(df1[df1['label']==1]['hashtag'])).split())).most_common(10)\n",
    "freq_hatred_hashtag"
   ]
  },
  {
   "cell_type": "code",
   "execution_count": 17,
   "metadata": {},
   "outputs": [
    {
     "name": "stdout",
     "output_type": "stream",
     "text": [
      "      words  frequency\n",
      "0      love       1591\n",
      "1  positive        879\n",
      "2     smile        577\n",
      "3   healthy        576\n",
      "4  thankful        471\n",
      "      words  frequency\n",
      "0      love       1591\n",
      "1  positive        879\n",
      "2     smile        577\n",
      "3   healthy        576\n",
      "4  thankful        471\n"
     ]
    }
   ],
   "source": [
    "df_allhashtag = pd.DataFrame(freq_all_hashtag, columns=['words', 'frequency'])\n",
    "df_hatredhashtag = pd.DataFrame(freq_hatred_hashtag, columns=['words', 'frequency'])\n",
    "print(df_allhashtag.head())\n",
    "print(df_allhashtag.head())"
   ]
  },
  {
   "cell_type": "code",
   "execution_count": 18,
   "metadata": {},
   "outputs": [
    {
     "data": {
      "image/png": "[encoded data removed]",
      "text/plain": [
       "<Figure size 432x288 with 1 Axes>"
      ]
     },
     "metadata": {
      "needs_background": "light"
     },
     "output_type": "display_data"
    }
   ],
   "source": [
    "sns.barplot(x='words', y='frequency', data=df_allhashtag)\n",
    "plt.xticks(rotation = 45)\n",
    "plt.title('hashtag words frequency')\n",
    "plt.show()"
   ]
  },
  {
   "cell_type": "code",
   "execution_count": 19,
   "metadata": {},
   "outputs": [
    {
     "data": {
      "image/png": "[encoded data removed]",
      "text/plain": [
       "<Figure size 432x288 with 1 Axes>"
      ]
     },
     "metadata": {
      "needs_background": "light"
     },
     "output_type": "display_data"
    }
   ],
   "source": [
    "sns.barplot(x='words', y='frequency', data=df_hatredhashtag)\n",
    "plt.xticks(rotation = 45)\n",
    "plt.title('hatred hashtag frequency')\n",
    "plt.show()"
   ]
  },
  {
   "cell_type": "code",
   "execution_count": 20,
   "metadata": {},
   "outputs": [],
   "source": [
    "# to create sparse matrix corpus is created to pass to vectorizer\n",
    "len(df1)\n",
    "corpus = []\n",
    "for i in range(0,31962):\n",
    "    corpus.append(df1['normalized_text'][i])\n",
    "#corpus"
   ]
  },
  {
   "cell_type": "code",
   "execution_count": 21,
   "metadata": {},
   "outputs": [
    {
     "data": {
      "text/plain": [
       "CountVectorizer(analyzer='word', binary=False, decode_error='strict',\n",
       "                dtype=<class 'numpy.int64'>, encoding='utf-8', input='content',\n",
       "                lowercase=True, max_df=1.0, max_features=None, min_df=1,\n",
       "                ngram_range=(1, 1), preprocessor=None,\n",
       "                stop_words=['i', 'me', 'my', 'myself', 'we', 'our', 'ours',\n",
       "                            'ourselves', 'you', \"you're\", \"you've\", \"you'll\",\n",
       "                            \"you'd\", 'your', 'yours', 'yourself', 'yourselves',\n",
       "                            'he', 'him', 'his', 'himself', 'she', \"she's\",\n",
       "                            'her', 'hers', 'herself', 'it', \"it's\", 'its',\n",
       "                            'itself', ...],\n",
       "                strip_accents=None, token_pattern='(?u)\\\\b\\\\w\\\\w+\\\\b',\n",
       "                tokenizer=None, vocabulary=None)"
      ]
     },
     "execution_count": 21,
     "metadata": {},
     "output_type": "execute_result"
    }
   ],
   "source": [
    "cv = CountVectorizer(stop_words=stopwords.words('english'))\n",
    "cv.fit(corpus)"
   ]
  },
  {
   "cell_type": "code",
   "execution_count": 22,
   "metadata": {},
   "outputs": [],
   "source": [
    "# creating dense matrix\n",
    "X = cv.transform(corpus).toarray()\n",
    "y = df1.iloc[:,1].values"
   ]
  },
  {
   "cell_type": "code",
   "execution_count": 23,
   "metadata": {},
   "outputs": [],
   "source": [
    "# train test split\n",
    "X_train, X_test, y_train, y_test = train_test_split(X, y, test_size=0.33, random_state=42)"
   ]
  },
  {
   "cell_type": "markdown",
   "metadata": {},
   "source": [
    "**Classification**\n",
    "\n",
    "**Logistic Regression (Linear Model)******"
   ]
  },
  {
   "cell_type": "code",
   "execution_count": 24,
   "metadata": {},
   "outputs": [
    {
     "name": "stderr",
     "output_type": "stream",
     "text": [
      "/opt/conda/lib/python3.6/site-packages/sklearn/linear_model/logistic.py:432: FutureWarning: Default solver will be changed to 'lbfgs' in 0.22. Specify a solver to silence this warning.\n",
      "  FutureWarning)\n"
     ]
    },
    {
     "data": {
      "text/plain": [
       "LogisticRegression(C=10, class_weight=None, dual=False, fit_intercept=True,\n",
       "                   intercept_scaling=1, l1_ratio=None, max_iter=100,\n",
       "                   multi_class='warn', n_jobs=None, penalty='l2',\n",
       "                   random_state=None, solver='warn', tol=0.0001, verbose=0,\n",
       "                   warm_start=False)"
      ]
     },
     "execution_count": 24,
     "metadata": {},
     "output_type": "execute_result"
    }
   ],
   "source": [
    "\n",
    "classifier1 = LogisticRegression(C=10)\n",
    "classifier1.fit(X_train, y_train)\n"
   ]
  },
  {
   "cell_type": "code",
   "execution_count": 25,
   "metadata": {},
   "outputs": [],
   "source": [
    "y_pred = classifier1.predict(X_test)\n",
    "y_prob = classifier1.predict_proba(X_test)"
   ]
  },
  {
   "cell_type": "code",
   "execution_count": 26,
   "metadata": {},
   "outputs": [
    {
     "name": "stdout",
     "output_type": "stream",
     "text": [
      "0.6702702702702703\n",
      "              precision    recall  f1-score   support\n",
      "\n",
      "           0       0.97      0.99      0.98      9806\n",
      "           1       0.78      0.58      0.67       742\n",
      "\n",
      "    accuracy                           0.96     10548\n",
      "   macro avg       0.88      0.79      0.82     10548\n",
      "weighted avg       0.96      0.96      0.96     10548\n",
      "\n",
      "[[9687  119]\n",
      " [ 308  434]]\n"
     ]
    }
   ],
   "source": [
    "print(f1_score(y_test, y_pred))\n",
    "print(classification_report(y_test, y_pred))\n",
    "print(confusion_matrix(y_test, y_pred))"
   ]
  },
  {
   "cell_type": "markdown",
   "metadata": {},
   "source": [
    "**checking with TF-IDF vectorizer**\n",
    "*** Unigram, bi gram is used wih min_df = 10*******"
   ]
  },
  {
   "cell_type": "code",
   "execution_count": 27,
   "metadata": {},
   "outputs": [],
   "source": [
    "tfidf = TfidfVectorizer(ngram_range=(1,3), min_df=10, stop_words=stopwords.words('english'))\n",
    "X1 = tfidf.fit_transform(corpus)"
   ]
  },
  {
   "cell_type": "code",
   "execution_count": 28,
   "metadata": {},
   "outputs": [
    {
     "name": "stderr",
     "output_type": "stream",
     "text": [
      "/opt/conda/lib/python3.6/site-packages/sklearn/linear_model/logistic.py:432: FutureWarning: Default solver will be changed to 'lbfgs' in 0.22. Specify a solver to silence this warning.\n",
      "  FutureWarning)\n"
     ]
    },
    {
     "data": {
      "text/plain": [
       "LogisticRegression(C=10, class_weight=None, dual=False, fit_intercept=True,\n",
       "                   intercept_scaling=1, l1_ratio=None, max_iter=100,\n",
       "                   multi_class='warn', n_jobs=None, penalty='l2',\n",
       "                   random_state=None, solver='warn', tol=0.0001, verbose=0,\n",
       "                   warm_start=False)"
      ]
     },
     "execution_count": 28,
     "metadata": {},
     "output_type": "execute_result"
    }
   ],
   "source": [
    "X1_train, X1_test, y1_train, y1_test = train_test_split(X1, y, test_size=0.33, random_state=42)\n",
    "classifier2 = LogisticRegression(C=10)\n",
    "classifier2.fit(X1_train, y1_train)"
   ]
  },
  {
   "cell_type": "code",
   "execution_count": 29,
   "metadata": {},
   "outputs": [],
   "source": [
    "y1_pred = classifier2.predict(X1_test)\n",
    "y1_prob = classifier2.predict_proba(X1_test)"
   ]
  },
  {
   "cell_type": "code",
   "execution_count": 30,
   "metadata": {},
   "outputs": [
    {
     "name": "stdout",
     "output_type": "stream",
     "text": [
      "0.6308943089430895\n",
      "              precision    recall  f1-score   support\n",
      "\n",
      "           0       0.96      0.99      0.98      9806\n",
      "           1       0.80      0.52      0.63       742\n",
      "\n",
      "    accuracy                           0.96     10548\n",
      "   macro avg       0.88      0.76      0.80     10548\n",
      "weighted avg       0.95      0.96      0.95     10548\n",
      "\n",
      "[[9706  100]\n",
      " [ 354  388]]\n"
     ]
    }
   ],
   "source": [
    "print(f1_score(y1_test, y1_pred))\n",
    "print(classification_report(y1_test, y1_pred))\n",
    "print(confusion_matrix(y1_test, y1_pred))"
   ]
  },
  {
   "cell_type": "code",
   "execution_count": 31,
   "metadata": {},
   "outputs": [],
   "source": [
    "threshold = np.arange(0.1,0.9,0.1)\n",
    "score = [f1_score(y1_test, ((y1_prob[:,1] >= x).astype(int))) for x in threshold]"
   ]
  },
  {
   "cell_type": "code",
   "execution_count": 32,
   "metadata": {},
   "outputs": [
    {
     "data": {
      "image/png": "[encoded data removed]",
      "text/plain": [
       "<Figure size 432x288 with 1 Axes>"
      ]
     },
     "metadata": {
      "needs_background": "light"
     },
     "output_type": "display_data"
    }
   ],
   "source": [
    "plt.plot(threshold, score)\n",
    "plt.xlabel('Threshold Probability')\n",
    "plt.ylabel('F1 score')\n",
    "plt.show()"
   ]
  },
  {
   "cell_type": "markdown",
   "metadata": {},
   "source": [
    "**performing classification model on our test data** "
   ]
  },
  {
   "cell_type": "code",
   "execution_count": 33,
   "metadata": {},
   "outputs": [
    {
     "data": {
      "text/html": [
       "<div>\n",
       "<style scoped>\n",
       "    .dataframe tbody tr th:only-of-type {\n",
       "        vertical-align: middle;\n",
       "    }\n",
       "\n",
       "    .dataframe tbody tr th {\n",
       "        vertical-align: top;\n",
       "    }\n",
       "\n",
       "    .dataframe thead th {\n",
       "        text-align: right;\n",
       "    }\n",
       "</style>\n",
       "<table border=\"1\" class=\"dataframe\">\n",
       "  <thead>\n",
       "    <tr style=\"text-align: right;\">\n",
       "      <th></th>\n",
       "      <th>id</th>\n",
       "      <th>tweet</th>\n",
       "    </tr>\n",
       "  </thead>\n",
       "  <tbody>\n",
       "    <tr>\n",
       "      <th>0</th>\n",
       "      <td>31963</td>\n",
       "      <td>#studiolife #aislife #requires #passion #dedic...</td>\n",
       "    </tr>\n",
       "    <tr>\n",
       "      <th>1</th>\n",
       "      <td>31964</td>\n",
       "      <td>@user #white #supremacists want everyone to s...</td>\n",
       "    </tr>\n",
       "    <tr>\n",
       "      <th>2</th>\n",
       "      <td>31965</td>\n",
       "      <td>safe ways to heal your #acne!!    #altwaystohe...</td>\n",
       "    </tr>\n",
       "    <tr>\n",
       "      <th>3</th>\n",
       "      <td>31966</td>\n",
       "      <td>is the hp and the cursed child book up for res...</td>\n",
       "    </tr>\n",
       "    <tr>\n",
       "      <th>4</th>\n",
       "      <td>31967</td>\n",
       "      <td>3rd #bihday to my amazing, hilarious #nephew...</td>\n",
       "    </tr>\n",
       "  </tbody>\n",
       "</table>\n",
       "</div>"
      ],
      "text/plain": [
       "      id                                              tweet\n",
       "0  31963  #studiolife #aislife #requires #passion #dedic...\n",
       "1  31964   @user #white #supremacists want everyone to s...\n",
       "2  31965  safe ways to heal your #acne!!    #altwaystohe...\n",
       "3  31966  is the hp and the cursed child book up for res...\n",
       "4  31967    3rd #bihday to my amazing, hilarious #nephew..."
      ]
     },
     "execution_count": 33,
     "metadata": {},
     "output_type": "execute_result"
    }
   ],
   "source": [
    "df2 = pd.read_csv('/kaggle/input/test.csv')\n",
    "df2.head()"
   ]
  },
  {
   "cell_type": "code",
   "execution_count": 34,
   "metadata": {},
   "outputs": [],
   "source": [
    "df2['normalized_text'] = df2['tweet'].apply(normalizer)\n"
   ]
  },
  {
   "cell_type": "code",
   "execution_count": 35,
   "metadata": {},
   "outputs": [],
   "source": [
    "# creating corpus\n",
    "corpus_test = []\n",
    "for i in range(0,17197):\n",
    "    corpus_test.append(df2.normalized_text[i])\n",
    "#corpus_test"
   ]
  },
  {
   "cell_type": "code",
   "execution_count": 36,
   "metadata": {},
   "outputs": [],
   "source": [
    "Test_X = tfidf.transform(corpus_test)"
   ]
  },
  {
   "cell_type": "code",
   "execution_count": 37,
   "metadata": {},
   "outputs": [],
   "source": [
    "pred_Y = classifier2.predict(Test_X)\n",
    "prob_Y = classifier2.predict_proba(Test_X)"
   ]
  },
  {
   "cell_type": "code",
   "execution_count": 38,
   "metadata": {},
   "outputs": [],
   "source": [
    "df2['pred_label'] = pred_Y\n",
    "scores = (prob_Y[:,1] >= 0.5).astype(int)\n",
    "df2['score'] = scores\n"
   ]
  },
  {
   "cell_type": "code",
   "execution_count": 39,
   "metadata": {},
   "outputs": [
    {
     "data": {
      "text/html": [
       "<div>\n",
       "<style scoped>\n",
       "    .dataframe tbody tr th:only-of-type {\n",
       "        vertical-align: middle;\n",
       "    }\n",
       "\n",
       "    .dataframe tbody tr th {\n",
       "        vertical-align: top;\n",
       "    }\n",
       "\n",
       "    .dataframe thead th {\n",
       "        text-align: right;\n",
       "    }\n",
       "</style>\n",
       "<table border=\"1\" class=\"dataframe\">\n",
       "  <thead>\n",
       "    <tr style=\"text-align: right;\">\n",
       "      <th></th>\n",
       "      <th>id</th>\n",
       "      <th>tweet</th>\n",
       "      <th>normalized_text</th>\n",
       "      <th>pred_label</th>\n",
       "      <th>score</th>\n",
       "    </tr>\n",
       "  </thead>\n",
       "  <tbody>\n",
       "    <tr>\n",
       "      <th>19</th>\n",
       "      <td>31982</td>\n",
       "      <td>thought factory: bbc neutrality on right wing ...</td>\n",
       "      <td>thought factory bbc neutrality right wing fasc...</td>\n",
       "      <td>1</td>\n",
       "      <td>1</td>\n",
       "    </tr>\n",
       "    <tr>\n",
       "      <th>26</th>\n",
       "      <td>31989</td>\n",
       "      <td>chick gets fucked hottest naked lady</td>\n",
       "      <td>chick get fucked hottest naked lady</td>\n",
       "      <td>1</td>\n",
       "      <td>1</td>\n",
       "    </tr>\n",
       "    <tr>\n",
       "      <th>30</th>\n",
       "      <td>31993</td>\n",
       "      <td>i'll #never be #120 #again i'm   #i'm a #thick...</td>\n",
       "      <td>never thick woman blacktina</td>\n",
       "      <td>1</td>\n",
       "      <td>1</td>\n",
       "    </tr>\n",
       "    <tr>\n",
       "      <th>33</th>\n",
       "      <td>31996</td>\n",
       "      <td>suppo the #taiji fisherman! no bullying! no ra...</td>\n",
       "      <td>suppo taiji fisherman bullying racism tweet ta...</td>\n",
       "      <td>1</td>\n",
       "      <td>1</td>\n",
       "    </tr>\n",
       "    <tr>\n",
       "      <th>110</th>\n",
       "      <td>32073</td>\n",
       "      <td>hey @user - a $14000 ivanka bracelet? do you f...</td>\n",
       "      <td>hey ivanka bracelet feel good profiting xenoph...</td>\n",
       "      <td>1</td>\n",
       "      <td>1</td>\n",
       "    </tr>\n",
       "    <tr>\n",
       "      <th>140</th>\n",
       "      <td>32103</td>\n",
       "      <td>@user all together this christmas: pls  &amp;amp; ...</td>\n",
       "      <td>together christmas pls amp follow national day...</td>\n",
       "      <td>1</td>\n",
       "      <td>1</td>\n",
       "    </tr>\n",
       "    <tr>\n",
       "      <th>141</th>\n",
       "      <td>32104</td>\n",
       "      <td>you might be a libtard if... #libtard  #sjw #l...</td>\n",
       "      <td>might libtard libtard sjw liberal politics</td>\n",
       "      <td>1</td>\n",
       "      <td>1</td>\n",
       "    </tr>\n",
       "    <tr>\n",
       "      <th>159</th>\n",
       "      <td>32122</td>\n",
       "      <td>#people aren't protesting #trump because a #re...</td>\n",
       "      <td>people protesting trump republican trump fuher...</td>\n",
       "      <td>1</td>\n",
       "      <td>1</td>\n",
       "    </tr>\n",
       "    <tr>\n",
       "      <th>160</th>\n",
       "      <td>32123</td>\n",
       "      <td>at work: attorneys for white officer who shot...</td>\n",
       "      <td>work attorney white officer shot philandocasti...</td>\n",
       "      <td>1</td>\n",
       "      <td>1</td>\n",
       "    </tr>\n",
       "    <tr>\n",
       "      <th>164</th>\n",
       "      <td>32127</td>\n",
       "      <td>@user trump's long history of  explained 1970'...</td>\n",
       "      <td>trump long history explained thru nevermypresi...</td>\n",
       "      <td>1</td>\n",
       "      <td>1</td>\n",
       "    </tr>\n",
       "    <tr>\n",
       "      <th>183</th>\n",
       "      <td>32146</td>\n",
       "      <td>@user  looked right at the cameraman as she gr...</td>\n",
       "      <td>looked right cameraman grabbed katie arm amp s...</td>\n",
       "      <td>1</td>\n",
       "      <td>1</td>\n",
       "    </tr>\n",
       "    <tr>\n",
       "      <th>185</th>\n",
       "      <td>32148</td>\n",
       "      <td>looking up some african news out of boredem, s...</td>\n",
       "      <td>looking african news boredem stumbled upon oh ...</td>\n",
       "      <td>1</td>\n",
       "      <td>1</td>\n",
       "    </tr>\n",
       "    <tr>\n",
       "      <th>261</th>\n",
       "      <td>32224</td>\n",
       "      <td>it could be worse. #embarrassed #unfounate #tr...</td>\n",
       "      <td>could worse embarrassed unfounate traumatized ...</td>\n",
       "      <td>1</td>\n",
       "      <td>1</td>\n",
       "    </tr>\n",
       "    <tr>\n",
       "      <th>266</th>\n",
       "      <td>32229</td>\n",
       "      <td>@user @user it is still fucking bullshit that ...</td>\n",
       "      <td>still fucking bullshit giving bigot platform s...</td>\n",
       "      <td>1</td>\n",
       "      <td>1</td>\n",
       "    </tr>\n",
       "    <tr>\n",
       "      <th>271</th>\n",
       "      <td>32234</td>\n",
       "      <td>@user @user @user it's always about race and r...</td>\n",
       "      <td>always race religion wrong w america</td>\n",
       "      <td>1</td>\n",
       "      <td>1</td>\n",
       "    </tr>\n",
       "    <tr>\n",
       "      <th>312</th>\n",
       "      <td>32275</td>\n",
       "      <td>#hate, , #crisis these are among many others t...</td>\n",
       "      <td>hate crisis among many others president elect ...</td>\n",
       "      <td>1</td>\n",
       "      <td>1</td>\n",
       "    </tr>\n",
       "    <tr>\n",
       "      <th>351</th>\n",
       "      <td>32314</td>\n",
       "      <td>thought factory: left-right polarisation! #tru...</td>\n",
       "      <td>thought factory left right polarisation trump ...</td>\n",
       "      <td>1</td>\n",
       "      <td>1</td>\n",
       "    </tr>\n",
       "    <tr>\n",
       "      <th>356</th>\n",
       "      <td>32319</td>\n",
       "      <td>@user go eat a shit dog you anti-american piec...</td>\n",
       "      <td>go eat shit dog anti american piece shit bet d...</td>\n",
       "      <td>1</td>\n",
       "      <td>1</td>\n",
       "    </tr>\n",
       "    <tr>\n",
       "      <th>391</th>\n",
       "      <td>32354</td>\n",
       "      <td>have no idea who she is but what a stupid comm...</td>\n",
       "      <td>idea stupid comment make inviting response dea...</td>\n",
       "      <td>1</td>\n",
       "      <td>1</td>\n",
       "    </tr>\n",
       "    <tr>\n",
       "      <th>403</th>\n",
       "      <td>32366</td>\n",
       "      <td>@user   you're  a typical ghetto pos politicia...</td>\n",
       "      <td>typical ghetto po politician refusing take pai...</td>\n",
       "      <td>1</td>\n",
       "      <td>1</td>\n",
       "    </tr>\n",
       "    <tr>\n",
       "      <th>406</th>\n",
       "      <td>32369</td>\n",
       "      <td>the latest the knitting clio daily!  thanks to...</td>\n",
       "      <td>latest knitting clio daily thanks twitterstorians</td>\n",
       "      <td>1</td>\n",
       "      <td>1</td>\n",
       "    </tr>\n",
       "    <tr>\n",
       "      <th>422</th>\n",
       "      <td>32385</td>\n",
       "      <td>#easter! #meanwhile, at the #white #house......</td>\n",
       "      <td>easter meanwhile white house</td>\n",
       "      <td>1</td>\n",
       "      <td>1</td>\n",
       "    </tr>\n",
       "    <tr>\n",
       "      <th>427</th>\n",
       "      <td>32390</td>\n",
       "      <td>still no women. wow so .</td>\n",
       "      <td>still woman wow</td>\n",
       "      <td>1</td>\n",
       "      <td>1</td>\n",
       "    </tr>\n",
       "    <tr>\n",
       "      <th>429</th>\n",
       "      <td>32392</td>\n",
       "      <td>okey i know that the latest tweet was a bit cl...</td>\n",
       "      <td>okey know latest tweet bit clitchy hey like u ...</td>\n",
       "      <td>1</td>\n",
       "      <td>1</td>\n",
       "    </tr>\n",
       "    <tr>\n",
       "      <th>430</th>\n",
       "      <td>32393</td>\n",
       "      <td>brutality rules new year on manus  close #manu...</td>\n",
       "      <td>brutality rule new year manus close manus ausp...</td>\n",
       "      <td>1</td>\n",
       "      <td>1</td>\n",
       "    </tr>\n",
       "    <tr>\n",
       "      <th>493</th>\n",
       "      <td>32456</td>\n",
       "      <td>word factory: race denial prevents healing! #s...</td>\n",
       "      <td>word factory race denial prevents healing sout...</td>\n",
       "      <td>1</td>\n",
       "      <td>1</td>\n",
       "    </tr>\n",
       "    <tr>\n",
       "      <th>498</th>\n",
       "      <td>32461</td>\n",
       "      <td>the latest the unsw daily!  thanks to @user @u...</td>\n",
       "      <td>latest unsw daily thanks ocean</td>\n",
       "      <td>1</td>\n",
       "      <td>1</td>\n",
       "    </tr>\n",
       "    <tr>\n",
       "      <th>541</th>\n",
       "      <td>32504</td>\n",
       "      <td>'@user  the #14th amendment  #blm discussed he...</td>\n",
       "      <td>user th amendment blm discussed thanks</td>\n",
       "      <td>1</td>\n",
       "      <td>1</td>\n",
       "    </tr>\n",
       "    <tr>\n",
       "      <th>590</th>\n",
       "      <td>32553</td>\n",
       "      <td>trump ally made  remarks towards obamas - cnn ...</td>\n",
       "      <td>trump ally made remark towards obamas cnn carl...</td>\n",
       "      <td>1</td>\n",
       "      <td>1</td>\n",
       "    </tr>\n",
       "    <tr>\n",
       "      <th>604</th>\n",
       "      <td>32567</td>\n",
       "      <td>after trump, is the media normalizing the #kkk...</td>\n",
       "      <td>trump medium normalizing kkk alternet</td>\n",
       "      <td>1</td>\n",
       "      <td>1</td>\n",
       "    </tr>\n",
       "    <tr>\n",
       "      <th>...</th>\n",
       "      <td>...</td>\n",
       "      <td>...</td>\n",
       "      <td>...</td>\n",
       "      <td>...</td>\n",
       "      <td>...</td>\n",
       "    </tr>\n",
       "    <tr>\n",
       "      <th>16697</th>\n",
       "      <td>48660</td>\n",
       "      <td>@user #jeffsessions  #attorneygeneral  from #a...</td>\n",
       "      <td>jeffsessions attorneygeneral alabama trump sta...</td>\n",
       "      <td>1</td>\n",
       "      <td>1</td>\n",
       "    </tr>\n",
       "    <tr>\n",
       "      <th>16702</th>\n",
       "      <td>48665</td>\n",
       "      <td>@user @user by \"many\", he means the 80% of eli...</td>\n",
       "      <td>many mean eligible u voter vote trump misogyny...</td>\n",
       "      <td>1</td>\n",
       "      <td>1</td>\n",
       "    </tr>\n",
       "    <tr>\n",
       "      <th>16706</th>\n",
       "      <td>48669</td>\n",
       "      <td>maybe. we need to teach our children and let t...</td>\n",
       "      <td>maybe need teach child let lead way police nee...</td>\n",
       "      <td>1</td>\n",
       "      <td>1</td>\n",
       "    </tr>\n",
       "    <tr>\n",
       "      <th>16727</th>\n",
       "      <td>48690</td>\n",
       "      <td>burning the american flag, really? where is th...</td>\n",
       "      <td>burning american flag really outrage unbelievable</td>\n",
       "      <td>1</td>\n",
       "      <td>1</td>\n",
       "    </tr>\n",
       "    <tr>\n",
       "      <th>16765</th>\n",
       "      <td>48728</td>\n",
       "      <td>#christmas #trump #newyork co-chair makes  'go...</td>\n",
       "      <td>christmas trump newyork co chair make gorilla ...</td>\n",
       "      <td>1</td>\n",
       "      <td>1</td>\n",
       "    </tr>\n",
       "    <tr>\n",
       "      <th>16788</th>\n",
       "      <td>48751</td>\n",
       "      <td>@user @user keep reminding minority groups tha...</td>\n",
       "      <td>keep reminding minority group arent sma white ...</td>\n",
       "      <td>1</td>\n",
       "      <td>1</td>\n",
       "    </tr>\n",
       "    <tr>\n",
       "      <th>16793</th>\n",
       "      <td>48756</td>\n",
       "      <td>@user @user @user from a wonder of #creation, ...</td>\n",
       "      <td>wonder creation show cruelty n disgusting</td>\n",
       "      <td>1</td>\n",
       "      <td>1</td>\n",
       "    </tr>\n",
       "    <tr>\n",
       "      <th>16800</th>\n",
       "      <td>48763</td>\n",
       "      <td>.@user or disabled journalist, rich jews, mexi...</td>\n",
       "      <td>user disabled journalist rich jew mexican rapi...</td>\n",
       "      <td>1</td>\n",
       "      <td>1</td>\n",
       "    </tr>\n",
       "    <tr>\n",
       "      <th>16805</th>\n",
       "      <td>48768</td>\n",
       "      <td>thought factory: bbc neutrality on right wing ...</td>\n",
       "      <td>thought factory bbc neutrality right wing fasc...</td>\n",
       "      <td>1</td>\n",
       "      <td>1</td>\n",
       "    </tr>\n",
       "    <tr>\n",
       "      <th>16814</th>\n",
       "      <td>48777</td>\n",
       "      <td>#ellenpompeo &amp;amp; the well-meaning-#white-#wo...</td>\n",
       "      <td>ellenpompeo amp well meaning white woman syndr...</td>\n",
       "      <td>1</td>\n",
       "      <td>1</td>\n",
       "    </tr>\n",
       "    <tr>\n",
       "      <th>16848</th>\n",
       "      <td>48811</td>\n",
       "      <td>@user @user @user you're a . 45% of cop killer...</td>\n",
       "      <td>cop killer black men population cop killer</td>\n",
       "      <td>1</td>\n",
       "      <td>1</td>\n",
       "    </tr>\n",
       "    <tr>\n",
       "      <th>16866</th>\n",
       "      <td>48829</td>\n",
       "      <td>@user haha and he's saying that because he thi...</td>\n",
       "      <td>haha saying think male know female ponchobot</td>\n",
       "      <td>1</td>\n",
       "      <td>1</td>\n",
       "    </tr>\n",
       "    <tr>\n",
       "      <th>16868</th>\n",
       "      <td>48831</td>\n",
       "      <td>@user @user the line \"don't be an idiot like m...</td>\n",
       "      <td>line idiot like human male line female would c...</td>\n",
       "      <td>1</td>\n",
       "      <td>1</td>\n",
       "    </tr>\n",
       "    <tr>\n",
       "      <th>16893</th>\n",
       "      <td>48856</td>\n",
       "      <td>the latest the blicqerâ¢ daily!  thanks to @u...</td>\n",
       "      <td>latest blicqer daily thanks maga</td>\n",
       "      <td>1</td>\n",
       "      <td>1</td>\n",
       "    </tr>\n",
       "    <tr>\n",
       "      <th>16912</th>\n",
       "      <td>48875</td>\n",
       "      <td>i agree what he said was horrible but is this ...</td>\n",
       "      <td>agree said horrible really first time everyone...</td>\n",
       "      <td>1</td>\n",
       "      <td>1</td>\n",
       "    </tr>\n",
       "    <tr>\n",
       "      <th>16936</th>\n",
       "      <td>48899</td>\n",
       "      <td>@user ha! good riddance! #blacklivesmatter</td>\n",
       "      <td>ha good riddance blacklivesmatter</td>\n",
       "      <td>1</td>\n",
       "      <td>1</td>\n",
       "    </tr>\n",
       "    <tr>\n",
       "      <th>16947</th>\n",
       "      <td>48910</td>\n",
       "      <td>#people aren't protesting #trump because a #re...</td>\n",
       "      <td>people protesting trump republican trump fuher...</td>\n",
       "      <td>1</td>\n",
       "      <td>1</td>\n",
       "    </tr>\n",
       "    <tr>\n",
       "      <th>16972</th>\n",
       "      <td>48935</td>\n",
       "      <td>â¦you #black &amp;amp; feel like the  are stompin...</td>\n",
       "      <td>black amp feel like stomping listen retweet ta...</td>\n",
       "      <td>1</td>\n",
       "      <td>1</td>\n",
       "    </tr>\n",
       "    <tr>\n",
       "      <th>16996</th>\n",
       "      <td>48959</td>\n",
       "      <td>@user @user @user #trumpusa when they call us ...</td>\n",
       "      <td>trumpusa call u homophobic misogynist really s...</td>\n",
       "      <td>1</td>\n",
       "      <td>1</td>\n",
       "    </tr>\n",
       "    <tr>\n",
       "      <th>16999</th>\n",
       "      <td>48962</td>\n",
       "      <td>office woman cutest girl on eah nude</td>\n",
       "      <td>office woman cutest girl eah nude</td>\n",
       "      <td>1</td>\n",
       "      <td>1</td>\n",
       "    </tr>\n",
       "    <tr>\n",
       "      <th>17002</th>\n",
       "      <td>48965</td>\n",
       "      <td>@user you are a complete jerk. your comments a...</td>\n",
       "      <td>complete jerk comment reflection ignorance</td>\n",
       "      <td>1</td>\n",
       "      <td>1</td>\n",
       "    </tr>\n",
       "    <tr>\n",
       "      <th>17031</th>\n",
       "      <td>48994</td>\n",
       "      <td>@user your comments are reflections of ignoran...</td>\n",
       "      <td>comment reflection ignorance</td>\n",
       "      <td>1</td>\n",
       "      <td>1</td>\n",
       "    </tr>\n",
       "    <tr>\n",
       "      <th>17039</th>\n",
       "      <td>49002</td>\n",
       "      <td>@user #allahsoil we can correctly date the beg...</td>\n",
       "      <td>allahsoil correctly date beginning islamist id...</td>\n",
       "      <td>1</td>\n",
       "      <td>1</td>\n",
       "    </tr>\n",
       "    <tr>\n",
       "      <th>17044</th>\n",
       "      <td>49007</td>\n",
       "      <td>@user ok, i love ya, but stop the #bs. #obama ...</td>\n",
       "      <td>ok love ya stop b obama another bad newsrepo t...</td>\n",
       "      <td>1</td>\n",
       "      <td>1</td>\n",
       "    </tr>\n",
       "    <tr>\n",
       "      <th>17125</th>\n",
       "      <td>49088</td>\n",
       "      <td>be careful in criticizing #obama for his decis...</td>\n",
       "      <td>careful criticizing obama decision israel amp ...</td>\n",
       "      <td>1</td>\n",
       "      <td>1</td>\n",
       "    </tr>\n",
       "    <tr>\n",
       "      <th>17128</th>\n",
       "      <td>49091</td>\n",
       "      <td>@user the uk governmentâs new #anti-semitism...</td>\n",
       "      <td>uk government new anti semitism definition con...</td>\n",
       "      <td>1</td>\n",
       "      <td>1</td>\n",
       "    </tr>\n",
       "    <tr>\n",
       "      <th>17148</th>\n",
       "      <td>49111</td>\n",
       "      <td>we grew up fucked upð¤ its fucked upð¥ i'm...</td>\n",
       "      <td>grew fucked fucked believing better place fucking</td>\n",
       "      <td>1</td>\n",
       "      <td>1</td>\n",
       "    </tr>\n",
       "    <tr>\n",
       "      <th>17176</th>\n",
       "      <td>49139</td>\n",
       "      <td>@user @user are the most racist pay ever!!!!!</td>\n",
       "      <td>racist pay ever</td>\n",
       "      <td>1</td>\n",
       "      <td>1</td>\n",
       "    </tr>\n",
       "    <tr>\n",
       "      <th>17188</th>\n",
       "      <td>49151</td>\n",
       "      <td>black professor demonizes, proposes nazi style...</td>\n",
       "      <td>black professor demonizes proposes nazi style ...</td>\n",
       "      <td>1</td>\n",
       "      <td>1</td>\n",
       "    </tr>\n",
       "    <tr>\n",
       "      <th>17192</th>\n",
       "      <td>49155</td>\n",
       "      <td>thought factory: left-right polarisation! #tru...</td>\n",
       "      <td>thought factory left right polarisation trump ...</td>\n",
       "      <td>1</td>\n",
       "      <td>1</td>\n",
       "    </tr>\n",
       "  </tbody>\n",
       "</table>\n",
       "<p>814 rows × 5 columns</p>\n",
       "</div>"
      ],
      "text/plain": [
       "          id                                              tweet  \\\n",
       "19     31982  thought factory: bbc neutrality on right wing ...   \n",
       "26     31989              chick gets fucked hottest naked lady    \n",
       "30     31993  i'll #never be #120 #again i'm   #i'm a #thick...   \n",
       "33     31996  suppo the #taiji fisherman! no bullying! no ra...   \n",
       "110    32073  hey @user - a $14000 ivanka bracelet? do you f...   \n",
       "140    32103  @user all together this christmas: pls  &amp; ...   \n",
       "141    32104  you might be a libtard if... #libtard  #sjw #l...   \n",
       "159    32122  #people aren't protesting #trump because a #re...   \n",
       "160    32123   at work: attorneys for white officer who shot...   \n",
       "164    32127  @user trump's long history of  explained 1970'...   \n",
       "183    32146  @user  looked right at the cameraman as she gr...   \n",
       "185    32148  looking up some african news out of boredem, s...   \n",
       "261    32224  it could be worse. #embarrassed #unfounate #tr...   \n",
       "266    32229  @user @user it is still fucking bullshit that ...   \n",
       "271    32234  @user @user @user it's always about race and r...   \n",
       "312    32275  #hate, , #crisis these are among many others t...   \n",
       "351    32314  thought factory: left-right polarisation! #tru...   \n",
       "356    32319  @user go eat a shit dog you anti-american piec...   \n",
       "391    32354  have no idea who she is but what a stupid comm...   \n",
       "403    32366  @user   you're  a typical ghetto pos politicia...   \n",
       "406    32369  the latest the knitting clio daily!  thanks to...   \n",
       "422    32385    #easter! #meanwhile, at the #white #house......   \n",
       "427    32390                          still no women. wow so .    \n",
       "429    32392  okey i know that the latest tweet was a bit cl...   \n",
       "430    32393  brutality rules new year on manus  close #manu...   \n",
       "493    32456  word factory: race denial prevents healing! #s...   \n",
       "498    32461  the latest the unsw daily!  thanks to @user @u...   \n",
       "541    32504  '@user  the #14th amendment  #blm discussed he...   \n",
       "590    32553  trump ally made  remarks towards obamas - cnn ...   \n",
       "604    32567  after trump, is the media normalizing the #kkk...   \n",
       "...      ...                                                ...   \n",
       "16697  48660  @user #jeffsessions  #attorneygeneral  from #a...   \n",
       "16702  48665  @user @user by \"many\", he means the 80% of eli...   \n",
       "16706  48669  maybe. we need to teach our children and let t...   \n",
       "16727  48690  burning the american flag, really? where is th...   \n",
       "16765  48728  #christmas #trump #newyork co-chair makes  'go...   \n",
       "16788  48751  @user @user keep reminding minority groups tha...   \n",
       "16793  48756  @user @user @user from a wonder of #creation, ...   \n",
       "16800  48763  .@user or disabled journalist, rich jews, mexi...   \n",
       "16805  48768  thought factory: bbc neutrality on right wing ...   \n",
       "16814  48777  #ellenpompeo &amp; the well-meaning-#white-#wo...   \n",
       "16848  48811  @user @user @user you're a . 45% of cop killer...   \n",
       "16866  48829  @user haha and he's saying that because he thi...   \n",
       "16868  48831  @user @user the line \"don't be an idiot like m...   \n",
       "16893  48856  the latest the blicqerâ¢ daily!  thanks to @u...   \n",
       "16912  48875  i agree what he said was horrible but is this ...   \n",
       "16936  48899        @user ha! good riddance! #blacklivesmatter    \n",
       "16947  48910  #people aren't protesting #trump because a #re...   \n",
       "16972  48935  â¦you #black &amp; feel like the  are stompin...   \n",
       "16996  48959  @user @user @user #trumpusa when they call us ...   \n",
       "16999  48962              office woman cutest girl on eah nude    \n",
       "17002  48965  @user you are a complete jerk. your comments a...   \n",
       "17031  48994  @user your comments are reflections of ignoran...   \n",
       "17039  49002  @user #allahsoil we can correctly date the beg...   \n",
       "17044  49007  @user ok, i love ya, but stop the #bs. #obama ...   \n",
       "17125  49088  be careful in criticizing #obama for his decis...   \n",
       "17128  49091  @user the uk governmentâs new #anti-semitism...   \n",
       "17148  49111  we grew up fucked upð¤ its fucked upð¥ i'm...   \n",
       "17176  49139     @user @user are the most racist pay ever!!!!!    \n",
       "17188  49151  black professor demonizes, proposes nazi style...   \n",
       "17192  49155  thought factory: left-right polarisation! #tru...   \n",
       "\n",
       "                                         normalized_text  pred_label  score  \n",
       "19     thought factory bbc neutrality right wing fasc...           1      1  \n",
       "26                   chick get fucked hottest naked lady           1      1  \n",
       "30                           never thick woman blacktina           1      1  \n",
       "33     suppo taiji fisherman bullying racism tweet ta...           1      1  \n",
       "110    hey ivanka bracelet feel good profiting xenoph...           1      1  \n",
       "140    together christmas pls amp follow national day...           1      1  \n",
       "141           might libtard libtard sjw liberal politics           1      1  \n",
       "159    people protesting trump republican trump fuher...           1      1  \n",
       "160    work attorney white officer shot philandocasti...           1      1  \n",
       "164    trump long history explained thru nevermypresi...           1      1  \n",
       "183    looked right cameraman grabbed katie arm amp s...           1      1  \n",
       "185    looking african news boredem stumbled upon oh ...           1      1  \n",
       "261    could worse embarrassed unfounate traumatized ...           1      1  \n",
       "266    still fucking bullshit giving bigot platform s...           1      1  \n",
       "271                 always race religion wrong w america           1      1  \n",
       "312    hate crisis among many others president elect ...           1      1  \n",
       "351    thought factory left right polarisation trump ...           1      1  \n",
       "356    go eat shit dog anti american piece shit bet d...           1      1  \n",
       "391    idea stupid comment make inviting response dea...           1      1  \n",
       "403    typical ghetto po politician refusing take pai...           1      1  \n",
       "406    latest knitting clio daily thanks twitterstorians           1      1  \n",
       "422                         easter meanwhile white house           1      1  \n",
       "427                                      still woman wow           1      1  \n",
       "429    okey know latest tweet bit clitchy hey like u ...           1      1  \n",
       "430    brutality rule new year manus close manus ausp...           1      1  \n",
       "493    word factory race denial prevents healing sout...           1      1  \n",
       "498                       latest unsw daily thanks ocean           1      1  \n",
       "541               user th amendment blm discussed thanks           1      1  \n",
       "590    trump ally made remark towards obamas cnn carl...           1      1  \n",
       "604                trump medium normalizing kkk alternet           1      1  \n",
       "...                                                  ...         ...    ...  \n",
       "16697  jeffsessions attorneygeneral alabama trump sta...           1      1  \n",
       "16702  many mean eligible u voter vote trump misogyny...           1      1  \n",
       "16706  maybe need teach child let lead way police nee...           1      1  \n",
       "16727  burning american flag really outrage unbelievable           1      1  \n",
       "16765  christmas trump newyork co chair make gorilla ...           1      1  \n",
       "16788  keep reminding minority group arent sma white ...           1      1  \n",
       "16793          wonder creation show cruelty n disgusting           1      1  \n",
       "16800  user disabled journalist rich jew mexican rapi...           1      1  \n",
       "16805  thought factory bbc neutrality right wing fasc...           1      1  \n",
       "16814  ellenpompeo amp well meaning white woman syndr...           1      1  \n",
       "16848         cop killer black men population cop killer           1      1  \n",
       "16866       haha saying think male know female ponchobot           1      1  \n",
       "16868  line idiot like human male line female would c...           1      1  \n",
       "16893                   latest blicqer daily thanks maga           1      1  \n",
       "16912  agree said horrible really first time everyone...           1      1  \n",
       "16936                  ha good riddance blacklivesmatter           1      1  \n",
       "16947  people protesting trump republican trump fuher...           1      1  \n",
       "16972  black amp feel like stomping listen retweet ta...           1      1  \n",
       "16996  trumpusa call u homophobic misogynist really s...           1      1  \n",
       "16999                  office woman cutest girl eah nude           1      1  \n",
       "17002         complete jerk comment reflection ignorance           1      1  \n",
       "17031                       comment reflection ignorance           1      1  \n",
       "17039  allahsoil correctly date beginning islamist id...           1      1  \n",
       "17044  ok love ya stop b obama another bad newsrepo t...           1      1  \n",
       "17125  careful criticizing obama decision israel amp ...           1      1  \n",
       "17128  uk government new anti semitism definition con...           1      1  \n",
       "17148  grew fucked fucked believing better place fucking           1      1  \n",
       "17176                                    racist pay ever           1      1  \n",
       "17188  black professor demonizes proposes nazi style ...           1      1  \n",
       "17192  thought factory left right polarisation trump ...           1      1  \n",
       "\n",
       "[814 rows x 5 columns]"
      ]
     },
     "execution_count": 39,
     "metadata": {},
     "output_type": "execute_result"
    }
   ],
   "source": [
    "df2[df2.pred_label == 1]"
   ]
  },
  {
   "cell_type": "code",
   "execution_count": null,
   "metadata": {},
   "outputs": [],
   "source": []
  }
 ],
 "metadata": {
  "kernelspec": {
   "display_name": "Python 3",
   "language": "python",
   "name": "python3"
  },
  "language_info": {
   "codemirror_mode": {
    "name": "ipython",
    "version": 3
   },
   "file_extension": ".py",
   "mimetype": "text/x-python",
   "name": "python",
   "nbconvert_exporter": "python",
   "pygments_lexer": "ipython3",
   "version": "3.6.6"
  }
 },
 "nbformat": 4,
 "nbformat_minor": 1
}
